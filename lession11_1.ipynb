{
 "cells": [
  {
   "cell_type": "code",
   "execution_count": 2,
   "metadata": {},
   "outputs": [
    {
     "data": {
      "text/plain": [
       "True"
      ]
     },
     "execution_count": 2,
     "metadata": {},
     "output_type": "execute_result"
    }
   ],
   "source": [
    "import os\n",
    "import psycopg2\n",
    "from psycopg2 import connect\n",
    "from dotenv import load_dotenv\n",
    "#初始化環境變數\n",
    "load_dotenv()"
   ]
  },
  {
   "cell_type": "markdown",
   "metadata": {},
   "source": [
    "## 建立資料表student"
   ]
  },
  {
   "cell_type": "code",
   "execution_count": 3,
   "metadata": {},
   "outputs": [],
   "source": [
    "#使用環境變數POSTGRE_PASSWORD,取得密碼,並建立connect(連線)的實體\n",
    "conn:connect = psycopg2.connect(os.environ['POSTGRE_PASSWORD'])\n",
    "\n",
    "# 建立cursor實體,準備執行SQL\n",
    "cur = conn.cursor()\n",
    "\n",
    "sql = '''\n",
    "CREATE TABLE IF NOT EXISTS student(\n",
    "\tid SERIAL PRIMARY KEY,\n",
    "\tname VARCHAR(20),\n",
    "\tchinese SMALLINT,\n",
    "\tenglish SMALLINT,\n",
    "\tmath SMALLINT\n",
    ");\n",
    "'''\n",
    "\n",
    "#執行sql\n",
    "cur.execute(sql)\n",
    "\n",
    "#確認SQL可以執行\n",
    "conn.commit()\n",
    "\n",
    "#關閉cursor\n",
    "cur.close()\n",
    "\n",
    "#關閉連線\n",
    "conn.close()"
   ]
  },
  {
   "cell_type": "markdown",
   "metadata": {},
   "source": [
    "## 新增資料"
   ]
  },
  {
   "cell_type": "code",
   "execution_count": null,
   "metadata": {},
   "outputs": [],
   "source": [
    "#使用環境變數POSTGRE_PASSWORD,取得密碼,並建立connect(連線)的實體\n",
    "conn:connect = psycopg2.connect(os.environ['POSTGRE_PASSWORD'])\n",
    "\n",
    "# 建立cursor實體,準備執行SQL\n",
    "cur = conn.cursor()\n",
    "\n",
    "sql = '''\n",
    "INSERT INTO student(name, chinese, english, math)\n",
    "VALUES('陳國堂',89,90,92);\n",
    "INSERT INTO student(name, chinese, english, math)\n",
    "VALUES('張國堂',90,96,95);\n",
    "'''\n",
    "\n",
    "#執行sql\n",
    "cur.execute(sql)\n",
    "\n",
    "#確認SQL可以執行\n",
    "conn.commit()\n",
    "\n",
    "#關閉cursor\n",
    "cur.close()\n",
    "\n",
    "#關閉連線\n",
    "conn.close()"
   ]
  }
 ],
 "metadata": {
  "kernelspec": {
   "display_name": "Python 3",
   "language": "python",
   "name": "python3"
  },
  "language_info": {
   "codemirror_mode": {
    "name": "ipython",
    "version": 3
   },
   "file_extension": ".py",
   "mimetype": "text/x-python",
   "name": "python",
   "nbconvert_exporter": "python",
   "pygments_lexer": "ipython3",
   "version": "3.10.13"
  }
 },
 "nbformat": 4,
 "nbformat_minor": 2
}
