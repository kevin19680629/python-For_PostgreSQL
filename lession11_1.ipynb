{
 "cells": [
  {
   "cell_type": "code",
   "execution_count": 5,
   "metadata": {},
   "outputs": [
    {
     "data": {
      "text/plain": [
       "True"
      ]
     },
     "execution_count": 5,
     "metadata": {},
     "output_type": "execute_result"
    }
   ],
   "source": [
    "import os\n",
    "import psycopg2\n",
    "from psycopg2 import connect\n",
    "from dotenv import load_dotenv\n",
    "#初始化環境變數\n",
    "load_dotenv()"
   ]
  },
  {
   "cell_type": "markdown",
   "metadata": {},
   "source": [
    "## 建立資料表student"
   ]
  },
  {
   "cell_type": "code",
   "execution_count": 6,
   "metadata": {},
   "outputs": [],
   "source": [
    "#使用環境變數POSTGRE_PASSWORD,取得密碼,並建立connect(連線)的實體\n",
    "conn:connect = psycopg2.connect(os.environ['POSTGRE_PASSWORD'])\n",
    "\n",
    "# 建立cursor實體,準備執行SQL\n",
    "cur = conn.cursor()\n",
    "\n",
    "sql = '''\n",
    "CREATE TABLE IF NOT EXISTS student(\n",
    "\tid SERIAL PRIMARY KEY,\n",
    "\tname VARCHAR(20),\n",
    "\tchinese SMALLINT,\n",
    "\tenglish SMALLINT,\n",
    "\tmath SMALLINT\n",
    ");\n",
    "'''\n",
    "\n",
    "#執行sql\n",
    "cur.execute(sql)\n",
    "\n",
    "#確認SQL可以執行\n",
    "conn.commit()\n",
    "\n",
    "#關閉cursor\n",
    "cur.close()\n",
    "\n",
    "#關閉連線\n",
    "conn.close()"
   ]
  },
  {
   "cell_type": "markdown",
   "metadata": {},
   "source": [
    "## 新增資料(1)"
   ]
  },
  {
   "cell_type": "code",
   "execution_count": null,
   "metadata": {},
   "outputs": [],
   "source": [
    "#使用環境變數POSTGRE_PASSWORD,取得密碼,並建立connect(連線)的實體\n",
    "conn:connect = psycopg2.connect(os.environ['POSTGRE_PASSWORD'])\n",
    "\n",
    "# 建立cursor實體,準備執行SQL\n",
    "cur = conn.cursor()\n",
    "\n",
    "sql = '''\n",
    "INSERT INTO student(name, chinese, english, math)\n",
    "VALUES('陳國堂',89,90,92);\n",
    "INSERT INTO student(name, chinese, english, math)\n",
    "VALUES('張國堂',90,96,95);\n",
    "'''\n",
    "\n",
    "#執行sql\n",
    "cur.execute(sql)\n",
    "\n",
    "#確認SQL可以執行\n",
    "conn.commit()\n",
    "\n",
    "#關閉cursor\n",
    "cur.close()\n",
    "\n",
    "#關閉連線\n",
    "conn.close()"
   ]
  },
  {
   "cell_type": "markdown",
   "metadata": {},
   "source": [
    "## 新增資料(2)"
   ]
  },
  {
   "cell_type": "code",
   "execution_count": 7,
   "metadata": {},
   "outputs": [],
   "source": [
    "#使用環境變數POSTGRE_PASSWORD,取得密碼,並建立connect(連線)的實體\n",
    "conn:connect = psycopg2.connect(os.environ['POSTGRE_PASSWORD'])\n",
    "\n",
    "# 建立cursor實體,準備執行SQL\n",
    "cur = conn.cursor()\n",
    "\n",
    "sql = '''\n",
    "INSERT INTO student(name, chinese, english, math)\n",
    "VALUES(%s,%s,%s,%s);\n",
    "'''\n",
    "\n",
    "#執行sql\n",
    "cur.execute(sql,('徐國堂',89,90,92))\n",
    "\n",
    "#確認SQL可以執行\n",
    "conn.commit()\n",
    "\n",
    "#關閉cursor\n",
    "cur.close()\n",
    "\n",
    "#關閉連線\n",
    "conn.close()"
   ]
  },
  {
   "cell_type": "markdown",
   "metadata": {},
   "source": [
    "## 新增資料(3)"
   ]
  },
  {
   "cell_type": "code",
   "execution_count": 10,
   "metadata": {},
   "outputs": [],
   "source": [
    "#使用環境變數POSTGRE_PASSWORD,取得密碼,並建立connect(連線)的實體\n",
    "conn:connect = psycopg2.connect(os.environ['POSTGRE_PASSWORD'])\n",
    "\n",
    "# 建立cursor實體,準備執行SQL\n",
    "cur = conn.cursor()\n",
    "\n",
    "sql = '''\n",
    "INSERT INTO student(name, chinese, english, math)\n",
    "VALUES(%(name)s,%(chinese)s,%(english)s,%(math)s);\n",
    "'''\n",
    "\n",
    "#執行sql\n",
    "cur.execute(sql,{'name':'張國堂','chinese':89, 'english':90, 'math':78})\n",
    "\n",
    "#確認SQL可以執行\n",
    "conn.commit()\n",
    "\n",
    "#關閉cursor\n",
    "cur.close()\n",
    "\n",
    "#關閉連線\n",
    "conn.close()"
   ]
  },
  {
   "cell_type": "markdown",
   "metadata": {},
   "source": [
    "## 新增資料(4)"
   ]
  },
  {
   "cell_type": "code",
   "execution_count": 12,
   "metadata": {},
   "outputs": [],
   "source": [
    "#使用環境變數POSTGRE_PASSWORD,取得密碼,並建立connect(連線)的實體\n",
    "conn:connect = psycopg2.connect(os.environ['POSTGRE_PASSWORD'])\n",
    "\n",
    "# 建立cursor實體,準備執行SQL\n",
    "cur = conn.cursor()\n",
    "\n",
    "sql = '''\n",
    "INSERT INTO student(name, chinese, english, math)\n",
    "VALUES(%(name)s,%(chinese)s,%(english)s,%(math)s);\n",
    "'''\n",
    "\n",
    "#執行sql\n",
    "data:list[dict] = [\n",
    "    {'name':'王國堂','chinese':89, 'english':75, 'math':92},\n",
    "    {'name':'陳國堂','chinese':65, 'english':93, 'math':59},\n",
    "    {'name':'邱國堂','chinese':71, 'english':64, 'math':92}\n",
    "]\n",
    "for item in data:\n",
    "    cur.execute(sql,item)\n",
    "\n",
    "#確認SQL可以執行\n",
    "conn.commit()\n",
    "\n",
    "#關閉cursor\n",
    "cur.close()\n",
    "\n",
    "#關閉連線\n",
    "conn.close()"
   ]
  },
  {
   "cell_type": "markdown",
   "metadata": {},
   "source": [
    "## 顯示資料表"
   ]
  },
  {
   "cell_type": "code",
   "execution_count": 13,
   "metadata": {},
   "outputs": [
    {
     "name": "stdout",
     "output_type": "stream",
     "text": [
      "[(1, '徐國堂', 89, 90, 92), (2, '張國堂', 89, 90, 78), (3, '王國堂', 89, 75, 92), (4, '陳國堂', 65, 93, 59), (5, '邱國堂', 71, 64, 92)]\n"
     ]
    }
   ],
   "source": [
    "#使用環境變數POSTGRE_PASSWORD,取得密碼,並建立connect(連線)的實體\n",
    "conn:connect = psycopg2.connect(os.environ['POSTGRE_PASSWORD'])\n",
    "\n",
    "# 建立cursor實體,準備執行SQL\n",
    "cur = conn.cursor()\n",
    "\n",
    "sql = '''\n",
    "SELECT *\n",
    "FROM student\n",
    "'''\n",
    "\n",
    "#執行sql\n",
    "cur.execute(sql)\n",
    "\n",
    "#取得資料\n",
    "print(cur.fetchall())\n",
    "\n",
    "#確認SQL可以執行\n",
    "conn.commit()\n",
    "\n",
    "#關閉cursor\n",
    "cur.close()\n",
    "\n",
    "#關閉連線\n",
    "conn.close()"
   ]
  },
  {
   "cell_type": "markdown",
   "metadata": {},
   "source": [
    "## 刪除表格"
   ]
  },
  {
   "cell_type": "code",
   "execution_count": 4,
   "metadata": {},
   "outputs": [],
   "source": [
    "#使用環境變數POSTGRE_PASSWORD,取得密碼,並建立connect(連線)的實體\n",
    "conn:connect = psycopg2.connect(os.environ['POSTGRE_PASSWORD'])\n",
    "\n",
    "# 建立cursor實體,準備執行SQL\n",
    "cur = conn.cursor()\n",
    "\n",
    "sql = '''\n",
    "DROP TABLE IF EXISTS student;\n",
    "'''\n",
    "\n",
    "#執行sql\n",
    "cur.execute(sql)\n",
    "\n",
    "#確認SQL可以執行\n",
    "conn.commit()\n",
    "\n",
    "#關閉cursor\n",
    "cur.close()\n",
    "\n",
    "#關閉連線\n",
    "conn.close()"
   ]
  }
 ],
 "metadata": {
  "kernelspec": {
   "display_name": "Python 3",
   "language": "python",
   "name": "python3"
  },
  "language_info": {
   "codemirror_mode": {
    "name": "ipython",
    "version": 3
   },
   "file_extension": ".py",
   "mimetype": "text/x-python",
   "name": "python",
   "nbconvert_exporter": "python",
   "pygments_lexer": "ipython3",
   "version": "3.10.13"
  }
 },
 "nbformat": 4,
 "nbformat_minor": 2
}
