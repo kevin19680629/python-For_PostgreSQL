{
 "cells": [
  {
   "cell_type": "code",
   "execution_count": 2,
   "metadata": {},
   "outputs": [],
   "source": [
    "import psycopg2\n",
    "conn = psycopg2.connect(\"\")\n",
    "cur = conn.cursor()\n",
    "sql = '''\n",
    "CREATE TABLE IF NOT EXISTS student(\n",
    "\tid SERIAL PRIMARY KEY,\n",
    "\tname VARCHAR(20),\n",
    "\tchinese SMALLINT,\n",
    "\tenglish SMALLINT,\n",
    "\tmath SMALLINT\n",
    ");\n",
    "'''\n",
    "cur.execute(sql)\n",
    "conn.commit()\n",
    "cur.close()\n",
    "conn.close()"
   ]
  }
 ],
 "metadata": {
  "kernelspec": {
   "display_name": "Python 3",
   "language": "python",
   "name": "python3"
  },
  "language_info": {
   "codemirror_mode": {
    "name": "ipython",
    "version": 3
   },
   "file_extension": ".py",
   "mimetype": "text/x-python",
   "name": "python",
   "nbconvert_exporter": "python",
   "pygments_lexer": "ipython3",
   "version": "3.10.13"
  }
 },
 "nbformat": 4,
 "nbformat_minor": 2
}
