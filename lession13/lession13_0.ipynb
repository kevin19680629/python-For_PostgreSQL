{
 "cells": [
  {
   "cell_type": "code",
   "execution_count": 1,
   "metadata": {},
   "outputs": [
    {
     "data": {
      "text/plain": [
       "True"
      ]
     },
     "execution_count": 1,
     "metadata": {},
     "output_type": "execute_result"
    }
   ],
   "source": [
    "#建立電腦的環境變數(不是真實的,是模擬的),並且載入\n",
    "from dotenv import load_dotenv\n",
    "load_dotenv()"
   ]
  },
  {
   "cell_type": "code",
   "execution_count": 2,
   "metadata": {},
   "outputs": [],
   "source": [
    "#連線資料庫\n",
    "#使用電腦的環境變數\n",
    "import psycopg2\n",
    "import os\n",
    "conn = psycopg2.connect(os.environ['POSTGRE_PASSWORD'])\n",
    "\n",
    "conn.commit()\n",
    "conn.close()"
   ]
  },
  {
   "cell_type": "code",
   "execution_count": 3,
   "metadata": {},
   "outputs": [],
   "source": [
    "#使用with as的語法,可以自動commit(),close()\n",
    "with psycopg2.connect(os.environ['POSTGRE_PASSWORD']) as conn:\n",
    "    cursor = conn.cursor()\n",
    "    sql = '''\n",
    "        CREATE TABLE IF NOT EXISTS 客戶(\n",
    "\t    客戶_id SERIAL,\n",
    "\t    客戶名稱 VARCHAR(255) NOT NULL,\n",
    "\t    PRIMARY KEY(客戶_id)\n",
    "        );\n",
    "    '''\n",
    "    cursor.execute(sql)\n",
    "    \n",
    "    sql = '''\n",
    "        CREATE TABLE IF NOT EXISTS 聯絡人(\n",
    "\t    聯絡人id SERIAL,\n",
    "\t    客戶id INT,\n",
    "\t    聯絡人姓名 VARCHAR(255) NOT NULL,\n",
    "\t    電話 VARCHAR(15),\n",
    "\t    郵件 VARCHAR(100),\n",
    "\t    PRIMARY KEY(聯絡人id),\n",
    "\t    FOREIGN KEY(客戶id) REFERENCES 客戶(客戶_id)\n",
    "        );\n",
    "    '''\n",
    "    cursor.execute(sql)\n",
    "    cursor.close()"
   ]
  },
  {
   "cell_type": "code",
   "execution_count": 4,
   "metadata": {},
   "outputs": [],
   "source": [
    "conn = psycopg2.connect(os.environ['POSTGRE_PASSWORD'])\n",
    "with conn:\n",
    "    with conn.cursor() as cursor:\n",
    "        sql='''\n",
    "            INSERT INTO 客戶(客戶名稱)\n",
    "            VALUES('遠傳電信'),\n",
    "            ('台灣大車隊');\n",
    "        '''\n",
    "        cursor.execute(sql)\n",
    "    \n",
    "conn.close()"
   ]
  },
  {
   "cell_type": "code",
   "execution_count": 5,
   "metadata": {},
   "outputs": [],
   "source": [
    "with psycopg2.connect(os.environ['POSTGRE_PASSWORD']) as conn:\n",
    "    with conn.cursor() as cursor:\n",
    "        sql='''\n",
    "            INSERT INTO 聯絡人(客戶id,聯絡人姓名,電話,郵件)\n",
    "            VALUES (1,'John Doe','(408)-111-1234','john.doe@bluebird.dev'),\n",
    "\t        (1,'Jane Doe','(408)-111-1235','jane.doe@bluebird.dev'),\n",
    "\t        (2,'David Wright','(408)-222-1234','david.wright@dolphin.dev');\n",
    "        '''\n",
    "        cursor.execute(sql)"
   ]
  },
  {
   "cell_type": "code",
   "execution_count": 6,
   "metadata": {},
   "outputs": [
    {
     "name": "stdout",
     "output_type": "stream",
     "text": [
      "(4, '遠傳電信', 'John Doe', '(408)-111-1234', 'john.doe@bluebird.dev')\n",
      "(5, '遠傳電信', 'Jane Doe', '(408)-111-1235', 'jane.doe@bluebird.dev')\n",
      "(6, '台灣大車隊', 'David Wright', '(408)-222-1234', 'david.wright@dolphin.dev')\n",
      "(7, '遠傳電信', 'John Doe', '(408)-111-1234', 'john.doe@bluebird.dev')\n",
      "(8, '遠傳電信', 'Jane Doe', '(408)-111-1235', 'jane.doe@bluebird.dev')\n",
      "(9, '台灣大車隊', 'David Wright', '(408)-222-1234', 'david.wright@dolphin.dev')\n"
     ]
    }
   ],
   "source": [
    "with psycopg2.connect(os.environ['POSTGRE_PASSWORD']) as conn:\n",
    "    with conn.cursor() as cursor:\n",
    "        sql='''\n",
    "            SELECT 聯絡人id,客戶名稱,聯絡人姓名,電話,郵件\n",
    "            FROM 聯絡人 LEFT JOIN 客戶 ON 聯絡人.客戶id = 客戶.客戶_id\n",
    "        '''\n",
    "        cursor.execute(sql)\n",
    "        datas:list = cursor.fetchmany(10)\n",
    "        \n",
    "\n",
    "for item in datas:\n",
    "    print(item)"
   ]
  },
  {
   "cell_type": "code",
   "execution_count": 7,
   "metadata": {},
   "outputs": [
    {
     "name": "stdout",
     "output_type": "stream",
     "text": [
      "(4, '遠傳電信', 'John Doe', '(408)-111-1234', 'john.doe@bluebird.dev')\n",
      "(5, '遠傳電信', 'Jane Doe', '(408)-111-1235', 'jane.doe@bluebird.dev')\n",
      "(6, '台灣大車隊', 'David Wright', '(408)-222-1234', 'david.wright@dolphin.dev')\n",
      "(7, '遠傳電信', 'John Doe', '(408)-111-1234', 'john.doe@bluebird.dev')\n",
      "(8, '遠傳電信', 'Jane Doe', '(408)-111-1235', 'jane.doe@bluebird.dev')\n",
      "(9, '台灣大車隊', 'David Wright', '(408)-222-1234', 'david.wright@dolphin.dev')\n"
     ]
    }
   ],
   "source": [
    "with psycopg2.connect(os.environ['POSTGRE_PASSWORD']) as conn:\n",
    "    with conn.cursor() as cursor:\n",
    "        sql='''\n",
    "            SELECT 聯絡人id,客戶名稱,聯絡人姓名,電話,郵件\n",
    "            FROM 聯絡人 LEFT JOIN 客戶 ON 聯絡人.客戶id = 客戶.客戶_id\n",
    "        '''\n",
    "        cursor.execute(sql)\n",
    "        while True:\n",
    "            oneItem = cursor.fetchone()\n",
    "            if oneItem is not None:\n",
    "                print(oneItem)\n",
    "            else:\n",
    "                break"
   ]
  }
 ],
 "metadata": {
  "kernelspec": {
   "display_name": "Python 3",
   "language": "python",
   "name": "python3"
  },
  "language_info": {
   "codemirror_mode": {
    "name": "ipython",
    "version": 3
   },
   "file_extension": ".py",
   "mimetype": "text/x-python",
   "name": "python",
   "nbconvert_exporter": "python",
   "pygments_lexer": "ipython3",
   "version": "3.10.14"
  }
 },
 "nbformat": 4,
 "nbformat_minor": 2
}
