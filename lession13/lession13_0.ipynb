{
 "cells": [
  {
   "cell_type": "code",
   "execution_count": null,
   "metadata": {},
   "outputs": [],
   "source": [
    "#建立電腦的環境變數(不是真實的,是模擬的),並且載入\n",
    "from dotenv import load_dotenv\n",
    "load_dotenv()"
   ]
  },
  {
   "cell_type": "code",
   "execution_count": null,
   "metadata": {},
   "outputs": [],
   "source": [
    "#連線資料庫\n",
    "#使用電腦的環境變數\n",
    "import psycopg2\n",
    "import os\n",
    "conn = psycopg2.connect(os.environ['POSTGRE_PASSWORD'])\n",
    "\n",
    "conn.commit()\n",
    "conn.close()"
   ]
  },
  {
   "cell_type": "code",
   "execution_count": null,
   "metadata": {},
   "outputs": [],
   "source": [
    "#使用with as的語法,可以自動commit(),close()\n",
    "with psycopg2.connect(os.environ['POSTGRE_PASSWORD']) as conn:\n",
    "    cursor = conn.cursor()\n",
    "    sql = '''\n",
    "        CREATE TABLE IF NOT EXISTS 客戶(\n",
    "\t    客戶_id SERIAL,\n",
    "\t    客戶名稱 VARCHAR(255) NOT NULL,\n",
    "\t    PRIMARY KEY(客戶_id)\n",
    "        );\n",
    "    '''\n",
    "    cursor.execute(sql)\n",
    "    \n",
    "    sql = '''\n",
    "        CREATE TABLE IF NOT EXISTS 聯絡人(\n",
    "\t    聯絡人id SERIAL,\n",
    "\t    客戶id INT,\n",
    "\t    聯絡人姓名 VARCHAR(255) NOT NULL,\n",
    "\t    電話 VARCHAR(15),\n",
    "\t    郵件 VARCHAR(100),\n",
    "\t    PRIMARY KEY(聯絡人id),\n",
    "\t    FOREIGN KEY(客戶id) REFERENCES 客戶(客戶_id)\n",
    "        );\n",
    "    '''\n",
    "    cursor.execute(sql)\n",
    "    cursor.close()"
   ]
  }
 ],
 "metadata": {
  "language_info": {
   "name": "python"
  }
 },
 "nbformat": 4,
 "nbformat_minor": 2
}
